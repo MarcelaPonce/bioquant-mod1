{
  "nbformat": 4,
  "nbformat_minor": 0,
  "metadata": {
    "colab": {
      "name": "Exercíciomod4",
      "provenance": [],
      "collapsed_sections": [
        "hCNtMRnZ3dk7",
        "BifD99cc-UMu"
      ],
      "authorship_tag": "ABX9TyO758jLXRxe7QumXQnImI7u",
      "include_colab_link": true
    },
    "kernelspec": {
      "name": "python3",
      "display_name": "Python 3"
    }
  },
  "cells": [
    {
      "cell_type": "markdown",
      "metadata": {
        "id": "view-in-github",
        "colab_type": "text"
      },
      "source": [
        "<a href=\"https://colab.research.google.com/github/MatheLeal/bioquant-mod1/blob/ExerciciosSuplementars/Exerc%C3%ADciosuplementarmod4.ipynb\" target=\"_parent\"><img src=\"https://colab.research.google.com/assets/colab-badge.svg\" alt=\"Open In Colab\"/></a>"
      ]
    },
    {
      "cell_type": "code",
      "metadata": {
        "id": "pW09v2E8_B3q",
        "colab_type": "code",
        "colab": {}
      },
      "source": [
        "# activate R magic\n",
        "%load_ext rpy2.ipython"
      ],
      "execution_count": null,
      "outputs": []
    },
    {
      "cell_type": "markdown",
      "metadata": {
        "id": "u1b21n2fFTi_",
        "colab_type": "text"
      },
      "source": [
        "# **Observação: Este notebook deve ser rodado no colaboratory a partir de um google drive que possua os arquivos \"exercicio-anova-1.xlsx\" e \"exercicio-anova-2.xlsx\".**\n",
        "\n",
        "\n"
      ]
    },
    {
      "cell_type": "markdown",
      "metadata": {
        "id": "2Bky1IIM2BKu",
        "colab_type": "text"
      },
      "source": [
        "# **Importando arquivos xlsx em Python:**\n",
        "Encontre os arquivos \"exercicio-anova-1.xlsx\" e \"exercicio-anova-2.xlsx\" no seu google drive, clique em cada um deles e abra-os com planilhas google (google sheets). Copie o File id como na imagem abaixo, e cole abaixo no local indicado dentro desta seção. ![file id.png](data:image/png;base64,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)\n"
      ]
    },
    {
      "cell_type": "code",
      "metadata": {
        "id": "4__CoUig6GIO",
        "colab_type": "code",
        "colab": {}
      },
      "source": [
        "from pydrive.auth import GoogleAuth\n",
        "from pydrive.drive import GoogleDrive\n",
        "from google.colab import auth\n",
        "from oauth2client.client import GoogleCredentials\n",
        "\n",
        "auth.authenticate_user()\n",
        "gauth = GoogleAuth()\n",
        "gauth.credentials = GoogleCredentials.get_application_default()\n",
        "drive = GoogleDrive(gauth)\n",
        "\n",
        "#copie na linha abaixo, entre os apostrofos, o file_id do exercicio-anova-1.xlsx\n",
        "file_id = '1DIWjtQsw_zZDSa5Wqgx35gigvjWQaxg6'#<-------- cole aqui\n",
        "downloaded1 = drive.CreateFile({'id': file_id})\n",
        "\n",
        "#copie na linha abaixo, entre os apostrofo,s o file_id do exercicio-anova-2.xlsx\n",
        "file_id = '1jIGZkxW95td9Eim94Su58Z4bjfrkVvqk'#<-------- cole aqui\n",
        "downloaded2 = drive.CreateFile({'id': file_id})"
      ],
      "execution_count": 84,
      "outputs": []
    },
    {
      "cell_type": "code",
      "metadata": {
        "id": "u2VFCzyu9nvL",
        "colab_type": "code",
        "colab": {}
      },
      "source": [
        "downloaded1.GetContentFile('exercicio-anova-1.xlsx')\n",
        "downloaded2.GetContentFile('exercicio-anova-2.xlsx')"
      ],
      "execution_count": 85,
      "outputs": []
    },
    {
      "cell_type": "code",
      "metadata": {
        "id": "3cTYJ2349_3J",
        "colab_type": "code",
        "colab": {}
      },
      "source": [
        "import pandas as pd\n",
        "df1 = pd.read_excel('exercicio-anova-1.xlsx')\n",
        "df2 = pd.read_excel('exercicio-anova-2.xlsx')"
      ],
      "execution_count": 86,
      "outputs": []
    },
    {
      "cell_type": "markdown",
      "metadata": {
        "id": "hCNtMRnZ3dk7",
        "colab_type": "text"
      },
      "source": [
        "# **Exercicio 1 do módulo 4 em R:**"
      ]
    },
    {
      "cell_type": "code",
      "metadata": {
        "id": "kFuaIybX3uJ0",
        "colab_type": "code",
        "colab": {}
      },
      "source": [
        "%Rpush df1\n"
      ],
      "execution_count": null,
      "outputs": []
    },
    {
      "cell_type": "code",
      "metadata": {
        "id": "anjK6tB74wNl",
        "colab_type": "code",
        "colab": {}
      },
      "source": [
        "%%R\n",
        "## EXERCICIO 1\n",
        "\n",
        "\n",
        "# Voce e um consultor ambiental e foi contratado para um determinado empreendimento.Para realizar os estudos, voce estratificou\n",
        "# a area experimental em 4 estratos, e amostrou 200 arvores em cada estrato. Agora voce necessita saber se os estratos\n",
        "# são signicativamente diferentes em relacao ao volume vegetal coletado, e quais estratos diferem entre si, para que as\n",
        "# analises prossigam.\n",
        "# Responda essas questoes com os metodos estatisticos adequados.\n",
        "# OBS: Nao esqueca de responder as questoes levantadas apontando a hipotese nula e alternativa se for realizado um teste\n",
        "# de hipoteses\n",
        "\n",
        "# Neste caso vamos usar anova one way pois estamos analisando um unico fator(uma única váriavel independente); \n",
        "# Temos mais de duas amostras e queremos saber se existe diferencia real \n",
        "# entre as medias. \n",
        "\n",
        "#Dividindo os dados em 4 grupos.\n",
        "estrato1 <- df1$dados [1:200]\n",
        "estrato2 <- df1$dados [201:400]\n",
        "estrato3 <- df1$dados[401:600]\n",
        "estrato4 <- df1$dados[601:800]\n",
        "\n"
      ],
      "execution_count": null,
      "outputs": []
    },
    {
      "cell_type": "code",
      "metadata": {
        "id": "gMCI0awt8ucn",
        "colab_type": "code",
        "colab": {}
      },
      "source": [
        "%%R\n",
        "# Criando as variaveis dependentes\n",
        "Varidep <- c(estrato1, estrato2, estrato3, estrato4)\n",
        "\n",
        "# Criar as variaveis independentes\n",
        "Variindep <- c(rep(\"estrato1\", 200), rep(\"estrato2\", 200), rep(\"estrato3\", 200), \n",
        "         rep(\"estrato4\", 200))\n",
        "\n",
        "# data.frame\n",
        "Estratos <- data.frame(Variindep, Varidep)"
      ],
      "execution_count": null,
      "outputs": []
    },
    {
      "cell_type": "code",
      "metadata": {
        "id": "ue-lsVNO83mD",
        "colab_type": "code",
        "colab": {}
      },
      "source": [
        "%%R\n",
        "# Premissas\n",
        "# 1. Normalidade\n",
        "shapiro.test(estrato1)"
      ],
      "execution_count": null,
      "outputs": []
    },
    {
      "cell_type": "code",
      "metadata": {
        "id": "s29FnTtL9i8v",
        "colab_type": "code",
        "colab": {}
      },
      "source": [
        "\n",
        "%%R\n",
        "shapiro.test(estrato2)"
      ],
      "execution_count": null,
      "outputs": []
    },
    {
      "cell_type": "code",
      "metadata": {
        "id": "56vGlBkh9jJc",
        "colab_type": "code",
        "colab": {}
      },
      "source": [
        "\n",
        "%%R\n",
        "shapiro.test(estrato3)"
      ],
      "execution_count": null,
      "outputs": []
    },
    {
      "cell_type": "code",
      "metadata": {
        "id": "V59ERxzD9jVT",
        "colab_type": "code",
        "colab": {}
      },
      "source": [
        "%%R\n",
        "shapiro.test(estrato4)"
      ],
      "execution_count": null,
      "outputs": []
    },
    {
      "cell_type": "code",
      "metadata": {
        "id": "VgcW71nK9jf8",
        "colab_type": "code",
        "colab": {}
      },
      "source": [
        "%%R\n",
        "# 2. Homocedasticidade\n",
        "# Usaremos o test de levene que calcula a homocedasticidade\n",
        "# H0 = variancia entre os grupos igual\n",
        "# levene.test(y = vetor numerico, group = fator dos dados)\n",
        "install.packages(\"lawstat\")\n",
        "library(lawstat)\n",
        "levene.test(Estratos$Varidep, group = Estratos$Variindep)\n",
        "#A variancia entre os grupos é igual.\n",
        "\n",
        "# 3. Independencia das amostras\n",
        "#As amostras foram retiradas de 4 estratos diferentes, portanto são independentes."
      ],
      "execution_count": null,
      "outputs": []
    },
    {
      "cell_type": "code",
      "metadata": {
        "id": "AFStrKM8-Ei-",
        "colab_type": "code",
        "colab": {}
      },
      "source": [
        "%%R\n",
        "# aov(formula = y variando em relacao a X, data = tabela)\n",
        "resultado <- aov(Varidep ~ Variindep, data = Estratos)\n",
        "summary(resultado)\n",
        "\n",
        "#O resultado foi F > 1 com um P valor de 2e-16, se coniderarmos um valor de significancia de 0,05 rejeitaremos H0, ou seja\n",
        "#as médias são diferentes."
      ],
      "execution_count": null,
      "outputs": []
    },
    {
      "cell_type": "markdown",
      "metadata": {
        "id": "BifD99cc-UMu",
        "colab_type": "text"
      },
      "source": [
        "# **Exercício 2 do módulo 4 em R:**"
      ]
    },
    {
      "cell_type": "code",
      "metadata": {
        "id": "4QaKriVw-o1t",
        "colab_type": "code",
        "colab": {}
      },
      "source": [
        "%Rpush df2"
      ],
      "execution_count": null,
      "outputs": []
    },
    {
      "cell_type": "code",
      "metadata": {
        "id": "b4KXm60p-s48",
        "colab_type": "code",
        "colab": {}
      },
      "source": [
        "%%R\n",
        "## EXERCICIO 2\n",
        "\n",
        "\n",
        "# Em um laboratorio foi realizada a coleta de plasma sanguineo de 20 pequenos roedores, e o grupo de pesquisa quer\n",
        "# saber se determinado hormonio afeta o nivel de plasma sanguineo, se ha diferenca entre esse nivel para machos e \n",
        "# femeas e se existe diferenca entre machos e femeas na presenca de hormonio e/ou na ausencia dele.\n",
        "# Responda as questoes levantadas utilizando metodos estatisticos adequados\n",
        "\n",
        "#Neste caso usaremos a anova two way, pois temos dois fatores para analisar.\n",
        "#Variavel dependente\n",
        "\n",
        "Plasma <- df2$Plasma\n",
        "\n",
        "#Variaveis independentes\n",
        "\n",
        "Tratamento <- c(rep(\"presença\", 10) , rep(\"ausência\", 10))\n",
        "\n",
        "Sexo <- c(rep(\"macho\",5), rep(\"femea\",5), rep(\"macho\",5), rep(\"femea\",5))\n",
        "\n",
        "# Data.frame\n",
        "Tabela <- data.frame(Sexo, Tratamento, Plasma)\n",
        "Tabela"
      ],
      "execution_count": null,
      "outputs": []
    },
    {
      "cell_type": "code",
      "metadata": {
        "id": "OyqbGTzs_MMW",
        "colab_type": "code",
        "colab": {
          "base_uri": "https://localhost:8080/",
          "height": 119
        },
        "outputId": "6f0e992e-552c-496a-e1ac-9ffd1fa685eb"
      },
      "source": [
        "%%R\n",
        "# 1. Normalidade Tratamento\n",
        "\n",
        "shapiro.test (Tabela[Tabela$Tratamento == \"presença\",]$Plasma)\n",
        "\n"
      ],
      "execution_count": null,
      "outputs": [
        {
          "output_type": "stream",
          "text": [
            "\n",
            "\tShapiro-Wilk normality test\n",
            "\n",
            "data:  Tabela[Tabela$Tratamento == \"presença\", ]$Plasma\n",
            "W = 0.95637, p-value = 0.7438\n",
            "\n"
          ],
          "name": "stdout"
        }
      ]
    },
    {
      "cell_type": "code",
      "metadata": {
        "id": "qJk0dBwl_akz",
        "colab_type": "code",
        "colab": {}
      },
      "source": [
        "%%R\n",
        "shapiro.test (Tabela[Tabela$Tratamento == \"ausência\",]$Plasma)\n"
      ],
      "execution_count": null,
      "outputs": []
    },
    {
      "cell_type": "code",
      "metadata": {
        "id": "eEMFYYqV_gsc",
        "colab_type": "code",
        "colab": {}
      },
      "source": [
        "%%R\n",
        "#dados apresentam distribuição normal considerando 0,05 de significancia\n",
        "\n",
        "# 1. Normalidade Sexo\n",
        "\n",
        "shapiro.test (Tabela[Tabela$Sexo == \"macho\",]$Plasma)\n"
      ],
      "execution_count": null,
      "outputs": []
    },
    {
      "cell_type": "code",
      "metadata": {
        "id": "CmS4ow0R_i4V",
        "colab_type": "code",
        "colab": {}
      },
      "source": [
        "%%R\n",
        "shapiro.test (Tabela[Tabela$Sexo == \"femea\",]$Plasma)\n",
        "#dados apresentam distribuição normal considerando 0,05 de significancia"
      ],
      "execution_count": null,
      "outputs": []
    },
    {
      "cell_type": "code",
      "metadata": {
        "id": "VkmgH84NABZn",
        "colab_type": "code",
        "colab": {}
      },
      "source": [
        "%%R\n",
        "# 2. Homocedasticidade\n",
        "levene.test(Tabela$Plasma, group = Tabela$Tratamento)\n",
        "\n",
        "#H1 variancia não é homogenea considerando 0,05 de significancia\n",
        "\n"
      ],
      "execution_count": null,
      "outputs": []
    },
    {
      "cell_type": "code",
      "metadata": {
        "id": "NF7Pj37HAMNg",
        "colab_type": "code",
        "colab": {}
      },
      "source": [
        "%%R\n",
        "levene.test(Tabela$Plasma, group = Tabela$Sexo)\n",
        "\n",
        "#H0 variancia é homogenea considerando 0,05 de significancia\n",
        "\n",
        "#Visto a heterocedasticidade esta analise de variância é inválida.\n",
        "\n",
        "# OBS: Nao esqueca de responder as questoes levantadas apontando a hipotese nula e alternativa se for realizado um teste\n",
        "# de hipoteses\n",
        "\n",
        "\n",
        "# OBS 2: Na coluna \"tratamentos\", o numero 1 significa  \"presenca do hormonio\" e o numero 2\"ausencia do hormonio\";\n",
        "# Na coluna \"sexo\", o numero 1 significa \"macho\" e o numero 2 \"femea\"."
      ],
      "execution_count": null,
      "outputs": []
    }
  ]
}