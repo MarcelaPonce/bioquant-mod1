{
  "nbformat": 4,
  "nbformat_minor": 0,
  "metadata": {
    "colab": {
      "name": "Exercíciomod4",
      "provenance": [],
      "collapsed_sections": [
        "2Bky1IIM2BKu",
        "hCNtMRnZ3dk7"
      ],
      "authorship_tag": "ABX9TyMQIylOMn7jbaVmaAN6cDk5",
      "include_colab_link": true
    },
    "kernelspec": {
      "name": "python3",
      "display_name": "Python 3"
    }
  },
  "cells": [
    {
      "cell_type": "markdown",
      "metadata": {
        "id": "view-in-github",
        "colab_type": "text"
      },
      "source": [
        "<a href=\"https://colab.research.google.com/github/MatheLeal/bioquant-mod1/blob/ExerciciosSuplementars/Exerc%C3%ADciomod4.ipynb\" target=\"_parent\"><img src=\"https://colab.research.google.com/assets/colab-badge.svg\" alt=\"Open In Colab\"/></a>"
      ]
    },
    {
      "cell_type": "code",
      "metadata": {
        "id": "pW09v2E8_B3q",
        "colab_type": "code",
        "colab": {}
      },
      "source": [
        "# activate R magic\n",
        "%load_ext rpy2.ipython"
      ],
      "execution_count": null,
      "outputs": []
    },
    {
      "cell_type": "markdown",
      "metadata": {
        "id": "2Bky1IIM2BKu",
        "colab_type": "text"
      },
      "source": [
        "# **Importando arquivos xlsx em Python:**\n"
      ]
    },
    {
      "cell_type": "code",
      "metadata": {
        "id": "4__CoUig6GIO",
        "colab_type": "code",
        "colab": {}
      },
      "source": [
        "from pydrive.auth import GoogleAuth\n",
        "from pydrive.drive import GoogleDrive\n",
        "from google.colab import auth\n",
        "from oauth2client.client import GoogleCredentials\n",
        "\n",
        "auth.authenticate_user()\n",
        "gauth = GoogleAuth()\n",
        "gauth.credentials = GoogleCredentials.get_application_default()\n",
        "drive = GoogleDrive(gauth)\n",
        "\n",
        "file_id = '1DIWjtQsw_zZDSa5Wqgx35gigvjWQaxg6'\n",
        "downloaded1 = drive.CreateFile({'id': file_id})\n",
        "file_id = '1jIGZkxW95td9Eim94Su58Z4bjfrkVvqk'\n",
        "downloaded2 = drive.CreateFile({'id': file_id})"
      ],
      "execution_count": null,
      "outputs": []
    },
    {
      "cell_type": "code",
      "metadata": {
        "id": "u2VFCzyu9nvL",
        "colab_type": "code",
        "colab": {}
      },
      "source": [
        "downloaded1.GetContentFile('exercicio-anova-1.xlsx')\n",
        "downloaded2.GetContentFile('exercicio-anova-2.xlsx')"
      ],
      "execution_count": null,
      "outputs": []
    },
    {
      "cell_type": "code",
      "metadata": {
        "id": "3cTYJ2349_3J",
        "colab_type": "code",
        "colab": {}
      },
      "source": [
        "import pandas as pd\n",
        "df1 = pd.read_excel('exercicio-anova-1.xlsx')\n",
        "df2 = pd.read_excel('exercicio-anova-2.xlsx')"
      ],
      "execution_count": null,
      "outputs": []
    },
    {
      "cell_type": "markdown",
      "metadata": {
        "id": "hCNtMRnZ3dk7",
        "colab_type": "text"
      },
      "source": [
        "# **Exercicio 1 do módulo 4 em R:**"
      ]
    },
    {
      "cell_type": "code",
      "metadata": {
        "id": "kFuaIybX3uJ0",
        "colab_type": "code",
        "colab": {}
      },
      "source": [
        "%Rpush df1\n"
      ],
      "execution_count": null,
      "outputs": []
    },
    {
      "cell_type": "code",
      "metadata": {
        "id": "anjK6tB74wNl",
        "colab_type": "code",
        "colab": {}
      },
      "source": [
        "%%R\n",
        "## EXERCICIO 1\n",
        "\n",
        "\n",
        "# Voce e um consultor ambiental e foi contratado para um determinado empreendimento.Para realizar os estudos, voce estratificou\n",
        "# a area experimental em 4 estratos, e amostrou 200 arvores em cada estrato. Agora voce necessita saber se os estratos\n",
        "# são signicativamente diferentes em relacao ao volume vegetal coletado, e quais estratos diferem entre si, para que as\n",
        "# analises prossigam.\n",
        "# Responda essas questoes com os metodos estatisticos adequados.\n",
        "# OBS: Nao esqueca de responder as questoes levantadas apontando a hipotese nula e alternativa se for realizado um teste\n",
        "# de hipoteses\n",
        "\n",
        "# Neste caso vamos usar anova one way pois estamos analisando um unico fator(uma única váriavel independente); \n",
        "# Temos mais de duas amostras e queremos saber se existe diferencia real \n",
        "# entre as medias. \n",
        "\n",
        "#Dividindo os dados em 4 grupos.\n",
        "estrato1 <- df1$dados [1:200]\n",
        "estrato2 <- df1$dados [201:400]\n",
        "estrato3 <- df1$dados[401:600]\n",
        "estrato4 <- df1$dados[601:800]\n",
        "\n"
      ],
      "execution_count": null,
      "outputs": []
    },
    {
      "cell_type": "code",
      "metadata": {
        "id": "gMCI0awt8ucn",
        "colab_type": "code",
        "colab": {}
      },
      "source": [
        "%%R\n",
        "# Criando as variaveis dependentes\n",
        "Varidep <- c(estrato1, estrato2, estrato3, estrato4)\n",
        "\n",
        "# Criar as variaveis independentes\n",
        "Variindep <- c(rep(\"estrato1\", 200), rep(\"estrato2\", 200), rep(\"estrato3\", 200), \n",
        "         rep(\"estrato4\", 200))\n",
        "\n",
        "# data.frame\n",
        "Estratos <- data.frame(Variindep, Varidep)"
      ],
      "execution_count": null,
      "outputs": []
    },
    {
      "cell_type": "code",
      "metadata": {
        "id": "ue-lsVNO83mD",
        "colab_type": "code",
        "colab": {}
      },
      "source": [
        "%%R\n",
        "# Premissas\n",
        "# 1. Normalidade\n",
        "shapiro.test(estrato1)"
      ],
      "execution_count": null,
      "outputs": []
    },
    {
      "cell_type": "code",
      "metadata": {
        "id": "s29FnTtL9i8v",
        "colab_type": "code",
        "colab": {}
      },
      "source": [
        "\n",
        "%%R\n",
        "shapiro.test(estrato2)"
      ],
      "execution_count": null,
      "outputs": []
    },
    {
      "cell_type": "code",
      "metadata": {
        "id": "56vGlBkh9jJc",
        "colab_type": "code",
        "colab": {}
      },
      "source": [
        "\n",
        "%%R\n",
        "shapiro.test(estrato3)"
      ],
      "execution_count": null,
      "outputs": []
    },
    {
      "cell_type": "code",
      "metadata": {
        "id": "V59ERxzD9jVT",
        "colab_type": "code",
        "colab": {}
      },
      "source": [
        "%%R\n",
        "shapiro.test(estrato4)"
      ],
      "execution_count": null,
      "outputs": []
    },
    {
      "cell_type": "code",
      "metadata": {
        "id": "VgcW71nK9jf8",
        "colab_type": "code",
        "colab": {}
      },
      "source": [
        "%%R\n",
        "# 2. Homocedasticidade\n",
        "# Usaremos o test de levene que calcula a homocedasticidade\n",
        "# H0 = variancia entre os grupos igual\n",
        "# levene.test(y = vetor numerico, group = fator dos dados)\n",
        "install.packages(\"lawstat\")\n",
        "library(lawstat)\n",
        "levene.test(Estratos$Varidep, group = Estratos$Variindep)\n",
        "#A variancia entre os grupos é igual.\n",
        "\n",
        "# 3. Independencia das amostras\n",
        "#As amostras foram retiradas de 4 estratos diferentes, portanto são independentes."
      ],
      "execution_count": null,
      "outputs": []
    },
    {
      "cell_type": "code",
      "metadata": {
        "id": "AFStrKM8-Ei-",
        "colab_type": "code",
        "colab": {}
      },
      "source": [
        "%%R\n",
        "# aov(formula = y variando em relacao a X, data = tabela)\n",
        "resultado <- aov(Varidep ~ Variindep, data = Estratos)\n",
        "summary(resultado)\n",
        "\n",
        "#O resultado foi F > 1 com um P valor de 2e-16, se coniderarmos um valor de significancia de 0,05 rejeitaremos H0, ou seja\n",
        "#as médias são diferentes."
      ],
      "execution_count": null,
      "outputs": []
    },
    {
      "cell_type": "markdown",
      "metadata": {
        "id": "BifD99cc-UMu",
        "colab_type": "text"
      },
      "source": [
        "# **Exercício 2 do módulo 4 em R:**"
      ]
    },
    {
      "cell_type": "code",
      "metadata": {
        "id": "4QaKriVw-o1t",
        "colab_type": "code",
        "colab": {}
      },
      "source": [
        "%Rpush df2"
      ],
      "execution_count": null,
      "outputs": []
    },
    {
      "cell_type": "code",
      "metadata": {
        "id": "b4KXm60p-s48",
        "colab_type": "code",
        "colab": {}
      },
      "source": [
        "%%R\n",
        "## EXERCICIO 2\n",
        "\n",
        "\n",
        "# Em um laboratorio foi realizada a coleta de plasma sanguineo de 20 pequenos roedores, e o grupo de pesquisa quer\n",
        "# saber se determinado hormonio afeta o nivel de plasma sanguineo, se ha diferenca entre esse nivel para machos e \n",
        "# femeas e se existe diferenca entre machos e femeas na presenca de hormonio e/ou na ausencia dele.\n",
        "# Responda as questoes levantadas utilizando metodos estatisticos adequados\n",
        "\n",
        "#Neste caso usaremos a anova two way, pois temos dois fatores para analisar.\n",
        "#Variavel dependente\n",
        "\n",
        "Plasma <- df2$Plasma\n",
        "\n",
        "#Variaveis independentes\n",
        "\n",
        "Tratamento <- c(rep(\"presença\", 10) , rep(\"ausência\", 10))\n",
        "\n",
        "Sexo <- c(rep(\"macho\",5), rep(\"femea\",5), rep(\"macho\",5), rep(\"femea\",5))\n",
        "\n",
        "# Data.frame\n",
        "Tabela <- data.frame(Sexo, Tratamento, Plasma)\n",
        "Tabela"
      ],
      "execution_count": null,
      "outputs": []
    },
    {
      "cell_type": "code",
      "metadata": {
        "id": "OyqbGTzs_MMW",
        "colab_type": "code",
        "colab": {
          "base_uri": "https://localhost:8080/",
          "height": 119
        },
        "outputId": "6f0e992e-552c-496a-e1ac-9ffd1fa685eb"
      },
      "source": [
        "%%R\n",
        "# 1. Normalidade Tratamento\n",
        "\n",
        "shapiro.test (Tabela[Tabela$Tratamento == \"presença\",]$Plasma)\n",
        "\n"
      ],
      "execution_count": null,
      "outputs": [
        {
          "output_type": "stream",
          "text": [
            "\n",
            "\tShapiro-Wilk normality test\n",
            "\n",
            "data:  Tabela[Tabela$Tratamento == \"presença\", ]$Plasma\n",
            "W = 0.95637, p-value = 0.7438\n",
            "\n"
          ],
          "name": "stdout"
        }
      ]
    },
    {
      "cell_type": "code",
      "metadata": {
        "id": "qJk0dBwl_akz",
        "colab_type": "code",
        "colab": {}
      },
      "source": [
        "%%R\n",
        "shapiro.test (Tabela[Tabela$Tratamento == \"ausência\",]$Plasma)\n"
      ],
      "execution_count": null,
      "outputs": []
    },
    {
      "cell_type": "code",
      "metadata": {
        "id": "eEMFYYqV_gsc",
        "colab_type": "code",
        "colab": {}
      },
      "source": [
        "%%R\n",
        "#dados apresentam distribuição normal considerando 0,05 de significancia\n",
        "\n",
        "# 1. Normalidade Sexo\n",
        "\n",
        "shapiro.test (Tabela[Tabela$Sexo == \"macho\",]$Plasma)\n"
      ],
      "execution_count": null,
      "outputs": []
    },
    {
      "cell_type": "code",
      "metadata": {
        "id": "CmS4ow0R_i4V",
        "colab_type": "code",
        "colab": {}
      },
      "source": [
        "%%R\n",
        "shapiro.test (Tabela[Tabela$Sexo == \"femea\",]$Plasma)\n",
        "#dados apresentam distribuição normal considerando 0,05 de significancia"
      ],
      "execution_count": null,
      "outputs": []
    },
    {
      "cell_type": "code",
      "metadata": {
        "id": "VkmgH84NABZn",
        "colab_type": "code",
        "colab": {}
      },
      "source": [
        "%%R\n",
        "# 2. Homocedasticidade\n",
        "levene.test(Tabela$Plasma, group = Tabela$Tratamento)\n",
        "\n",
        "#H1 variancia não é homogenea considerando 0,05 de significancia\n",
        "\n"
      ],
      "execution_count": null,
      "outputs": []
    },
    {
      "cell_type": "code",
      "metadata": {
        "id": "NF7Pj37HAMNg",
        "colab_type": "code",
        "colab": {}
      },
      "source": [
        "%%R\n",
        "levene.test(Tabela$Plasma, group = Tabela$Sexo)\n",
        "\n",
        "#H0 variancia é homogenea considerando 0,05 de significancia\n",
        "\n",
        "#Visto a heterocedasticidade esta analise de variância é inválida.\n",
        "\n",
        "# OBS: Nao esqueca de responder as questoes levantadas apontando a hipotese nula e alternativa se for realizado um teste\n",
        "# de hipoteses\n",
        "\n",
        "\n",
        "# OBS 2: Na coluna \"tratamentos\", o numero 1 significa  \"presenca do hormonio\" e o numero 2\"ausencia do hormonio\";\n",
        "# Na coluna \"sexo\", o numero 1 significa \"macho\" e o numero 2 \"femea\"."
      ],
      "execution_count": null,
      "outputs": []
    }
  ]
}